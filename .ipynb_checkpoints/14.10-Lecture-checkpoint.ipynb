{
 "cells": [
  {
   "cell_type": "code",
   "execution_count": 1,
   "id": "17471d78-ab45-472c-a4fc-25efd319d27e",
   "metadata": {},
   "outputs": [
    {
     "data": {
      "text/plain": [
       "int"
      ]
     },
     "execution_count": 1,
     "metadata": {},
     "output_type": "execute_result"
    }
   ],
   "source": [
    "type(1)"
   ]
  },
  {
   "cell_type": "code",
   "execution_count": 2,
   "id": "4d5e5906-af85-455b-b5a7-399db5289bae",
   "metadata": {},
   "outputs": [
    {
     "data": {
      "text/plain": [
       "4"
      ]
     },
     "execution_count": 2,
     "metadata": {},
     "output_type": "execute_result"
    }
   ],
   "source": [
    "2+2"
   ]
  },
  {
   "cell_type": "code",
   "execution_count": 3,
   "id": "fbc309e6-0a2b-4e5e-a4c3-66ddbf2e5ab5",
   "metadata": {},
   "outputs": [
    {
     "data": {
      "text/plain": [
       "24"
      ]
     },
     "execution_count": 3,
     "metadata": {},
     "output_type": "execute_result"
    }
   ],
   "source": [
    "type(\"24\")\n",
    "int(\"24\")"
   ]
  },
  {
   "cell_type": "code",
   "execution_count": 4,
   "id": "dec8957c-037e-4e52-be07-5c60d4995293",
   "metadata": {},
   "outputs": [
    {
     "data": {
      "text/plain": [
       "42.0"
      ]
     },
     "execution_count": 4,
     "metadata": {},
     "output_type": "execute_result"
    }
   ],
   "source": [
    "#type(1.)\n",
    "float(42)"
   ]
  },
  {
   "cell_type": "code",
   "execution_count": 8,
   "id": "7dcdea43-5bce-413b-a84c-247e99dc10fd",
   "metadata": {},
   "outputs": [],
   "source": [
    "# LECTURE (10/14/2024)"
   ]
  },
  {
   "cell_type": "code",
   "execution_count": 7,
   "id": "eb537db5-eb9d-4e06-94df-4e53bf8a976d",
   "metadata": {},
   "outputs": [
    {
     "data": {
      "text/plain": [
       "'Python is awesome'"
      ]
     },
     "execution_count": 7,
     "metadata": {},
     "output_type": "execute_result"
    }
   ],
   "source": [
    "#adding strings\n",
    "\"Python\"+\" is\"+\" awesome\""
   ]
  },
  {
   "cell_type": "code",
   "execution_count": 9,
   "id": "3e8e7df1-4688-4775-8989-02e380cc98b3",
   "metadata": {},
   "outputs": [
    {
     "name": "stdout",
     "output_type": "stream",
     "text": [
      "2\n",
      "4\n",
      "6\n"
     ]
    }
   ],
   "source": [
    "#You can set multipe variables in python\n",
    "m,n,p = 2,4,6\n",
    "print(m)\n",
    "print(n)\n",
    "print(p)"
   ]
  },
  {
   "cell_type": "code",
   "execution_count": 10,
   "id": "55215665-9d15-43e0-877b-3af4c1b1cd7f",
   "metadata": {},
   "outputs": [
    {
     "name": "stdout",
     "output_type": "stream",
     "text": [
      "10\n",
      "10\n"
     ]
    }
   ],
   "source": [
    "#you can set variables to the same value\n",
    "a=b=c = 10\n",
    "print(a)\n",
    "print(b)"
   ]
  },
  {
   "cell_type": "code",
   "execution_count": 11,
   "id": "11d1677c-6a78-4032-80c9-6814ccffeeb6",
   "metadata": {},
   "outputs": [
    {
     "name": "stdout",
     "output_type": "stream",
     "text": [
      "10\n"
     ]
    }
   ],
   "source": [
    "print(a)"
   ]
  },
  {
   "cell_type": "code",
   "execution_count": 12,
   "id": "bfcb2580-48aa-47f2-a9c7-095ee25f2b4b",
   "metadata": {},
   "outputs": [
    {
     "name": "stdout",
     "output_type": "stream",
     "text": [
      "5\n"
     ]
    }
   ],
   "source": [
    "a=5\n",
    "print(a)"
   ]
  },
  {
   "cell_type": "code",
   "execution_count": 14,
   "id": "759a659c-7c92-4d0f-b031-e15db2766329",
   "metadata": {},
   "outputs": [
    {
     "data": {
      "text/plain": [
       "'Hello Aaliyah!'"
      ]
     },
     "execution_count": 14,
     "metadata": {},
     "output_type": "execute_result"
    }
   ],
   "source": [
    "#FUNCTIONS\n",
    "#making a new function: def function(argument):\n",
    "\n",
    "def greet(name):\n",
    "    talk = \"Hello\" + \" \" + name + \"!\"\n",
    "    return talk\n",
    "\n",
    "greet(\"Aaliyah\")"
   ]
  },
  {
   "cell_type": "code",
   "execution_count": 15,
   "id": "c16ea75b-e072-4dc3-9b79-943ab798f086",
   "metadata": {},
   "outputs": [
    {
     "data": {
      "text/plain": [
       "'Hello Giselle!'"
      ]
     },
     "execution_count": 15,
     "metadata": {},
     "output_type": "execute_result"
    }
   ],
   "source": [
    "greet(\"Giselle\")"
   ]
  },
  {
   "cell_type": "code",
   "execution_count": 19,
   "id": "5497590c-670d-4d37-9c4d-39088f48d0cd",
   "metadata": {},
   "outputs": [
    {
     "data": {
      "text/plain": [
       "\"Mom's favorite color is yellow.\""
      ]
     },
     "execution_count": 19,
     "metadata": {},
     "output_type": "execute_result"
    }
   ],
   "source": [
    "# Functions can have default arguments\n",
    "def fav_color(color,person=\"Aaliyah\"):\n",
    "    sentence = person + \"'s favorite color is \" + color +\".\"\n",
    "    return sentence\n",
    "\n",
    "#fav_color(\"yellow\",\"Aaliyah\")\n",
    "fav_color(\"yellow\") #only one argument needed\n",
    "fav_color(\"yellow\", person=\"Mom\") #can change default value "
   ]
  },
  {
   "cell_type": "code",
   "execution_count": 22,
   "id": "60933736-cbf6-46bd-8328-581ed800e304",
   "metadata": {},
   "outputs": [
    {
     "data": {
      "text/plain": [
       "6.0"
      ]
     },
     "execution_count": 22,
     "metadata": {},
     "output_type": "execute_result"
    }
   ],
   "source": [
    "#Good coding skills\n",
    "def area_of_triangle(base, height):\n",
    "    #computes area of triangle \n",
    "    #area = 1/2(base*height)\n",
    "    area = 0.5*base*height\n",
    "    return area\n",
    "\n",
    "my_base = 3\n",
    "my_height = 4\n",
    "\n",
    "area_of_triangle(my_base, my_height)"
   ]
  },
  {
   "cell_type": "code",
   "execution_count": 26,
   "id": "f0351b92-816b-4bb2-8011-9ca121580245",
   "metadata": {},
   "outputs": [
    {
     "name": "stdout",
     "output_type": "stream",
     "text": [
      "10\n",
      "10\n"
     ]
    }
   ],
   "source": [
    "#Global and Local variables\n",
    "x = 10 #global\n",
    "def display_var1():\n",
    "    print(x)\n",
    "\n",
    "\n",
    "display_var1()\n",
    "print(x)"
   ]
  },
  {
   "cell_type": "code",
   "execution_count": 29,
   "id": "8345a0fe-1d81-4001-b7dd-0a4f56d8a72e",
   "metadata": {},
   "outputs": [
    {
     "name": "stdout",
     "output_type": "stream",
     "text": [
      "5\n"
     ]
    }
   ],
   "source": [
    "def display_var2():\n",
    "    y = 5 #local\n",
    "    print(y)\n",
    "\n",
    "display_var2()\n",
    "#print(y) wont work"
   ]
  },
  {
   "cell_type": "code",
   "execution_count": 30,
   "id": "56e2ff4b-8030-41a8-bd95-e442158360b9",
   "metadata": {},
   "outputs": [
    {
     "name": "stdout",
     "output_type": "stream",
     "text": [
      "6\n"
     ]
    }
   ],
   "source": [
    "# more operations\n",
    "x = 3\n",
    "x += 3\n",
    "print(x)"
   ]
  },
  {
   "cell_type": "code",
   "execution_count": null,
   "id": "18f10ae6-2a1e-4e22-b3e7-4e69dacd3930",
   "metadata": {},
   "outputs": [],
   "source": []
  }
 ],
 "metadata": {
  "kernelspec": {
   "display_name": "Python 3 (ipykernel)",
   "language": "python",
   "name": "python3"
  },
  "language_info": {
   "codemirror_mode": {
    "name": "ipython",
    "version": 3
   },
   "file_extension": ".py",
   "mimetype": "text/x-python",
   "name": "python",
   "nbconvert_exporter": "python",
   "pygments_lexer": "ipython3",
   "version": "3.12.3"
  }
 },
 "nbformat": 4,
 "nbformat_minor": 5
}
