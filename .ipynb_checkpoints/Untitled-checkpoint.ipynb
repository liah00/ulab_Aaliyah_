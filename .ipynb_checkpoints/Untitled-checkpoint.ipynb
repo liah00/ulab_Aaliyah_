{
 "cells": [
  {
   "cell_type": "code",
   "execution_count": 2,
   "id": "1c6d9cf7-508e-4e9f-9b6b-dc75fb43006c",
   "metadata": {},
   "outputs": [
    {
     "name": "stdout",
     "output_type": "stream",
     "text": [
      "Hello, world!\n"
     ]
    }
   ],
   "source": [
    "#printing \n",
    "print (\"Hello, world!\")\n"
   ]
  },
  {
   "cell_type": "code",
   "execution_count": 3,
   "id": "6481f418-2127-49a0-b48c-30a70718816e",
   "metadata": {},
   "outputs": [
    {
     "data": {
      "text/plain": [
       "int"
      ]
     },
     "execution_count": 3,
     "metadata": {},
     "output_type": "execute_result"
    }
   ],
   "source": [
    "#integer\n",
    "type(3)"
   ]
  },
  {
   "cell_type": "code",
   "execution_count": 4,
   "id": "cd9146db-fc1f-40c5-b1e3-aa559b234413",
   "metadata": {},
   "outputs": [
    {
     "data": {
      "text/plain": [
       "float"
      ]
     },
     "execution_count": 4,
     "metadata": {},
     "output_type": "execute_result"
    }
   ],
   "source": [
    "#float\n",
    "type(3.)"
   ]
  },
  {
   "cell_type": "code",
   "execution_count": 5,
   "id": "a635814f-c60f-43ed-85f5-2480721a60dd",
   "metadata": {},
   "outputs": [
    {
     "data": {
      "text/plain": [
       "str"
      ]
     },
     "execution_count": 5,
     "metadata": {},
     "output_type": "execute_result"
    }
   ],
   "source": [
    "#string\n",
    "type(\"Hello, world!\")"
   ]
  },
  {
   "cell_type": "code",
   "execution_count": 6,
   "id": "6b0008b9-3e5e-486e-8db7-dbfb05ab8b9c",
   "metadata": {},
   "outputs": [
    {
     "data": {
      "text/plain": [
       "bool"
      ]
     },
     "execution_count": 6,
     "metadata": {},
     "output_type": "execute_result"
    }
   ],
   "source": [
    "#boolean\n",
    "type(True)"
   ]
  },
  {
   "cell_type": "code",
   "execution_count": 8,
   "id": "d8a286b0-7b3a-4d6c-8ba4-5399dded7f6c",
   "metadata": {},
   "outputs": [
    {
     "data": {
      "text/plain": [
       "list"
      ]
     },
     "execution_count": 8,
     "metadata": {},
     "output_type": "execute_result"
    }
   ],
   "source": [
    "#list\n",
    "type([1,2,3])\n",
    "type([\"hi\", False, 4.5])"
   ]
  },
  {
   "cell_type": "code",
   "execution_count": 9,
   "id": "d020355e-183c-41e8-8ceb-a5e23ce6ae7d",
   "metadata": {},
   "outputs": [
    {
     "data": {
      "text/plain": [
       "dict"
      ]
     },
     "execution_count": 9,
     "metadata": {},
     "output_type": "execute_result"
    }
   ],
   "source": [
    "#dictionary\n",
    "type({\"color\" : \"blue\"})"
   ]
  },
  {
   "cell_type": "code",
   "execution_count": 10,
   "id": "953c1ae9-8be3-46e6-b463-7266aeebec7f",
   "metadata": {},
   "outputs": [
    {
     "data": {
      "text/plain": [
       "tuple"
      ]
     },
     "execution_count": 10,
     "metadata": {},
     "output_type": "execute_result"
    }
   ],
   "source": [
    "#tuples\n",
    "type((1,2))"
   ]
  },
  {
   "cell_type": "code",
   "execution_count": 11,
   "id": "ec50d518-75d7-4df5-bb35-94f9066d604d",
   "metadata": {},
   "outputs": [
    {
     "data": {
      "text/plain": [
       "set"
      ]
     },
     "execution_count": 11,
     "metadata": {},
     "output_type": "execute_result"
    }
   ],
   "source": [
    "#set\n",
    "type({1,2})"
   ]
  },
  {
   "cell_type": "code",
   "execution_count": 12,
   "id": "a0194990-1c12-4616-a6b0-e1096c4d4082",
   "metadata": {},
   "outputs": [
    {
     "data": {
      "text/plain": [
       "2"
      ]
     },
     "execution_count": 12,
     "metadata": {},
     "output_type": "execute_result"
    }
   ],
   "source": [
    "#addition\n",
    "1+1"
   ]
  },
  {
   "cell_type": "code",
   "execution_count": 13,
   "id": "10271a08-cdc3-40b5-a5a5-7d42e38798a8",
   "metadata": {},
   "outputs": [
    {
     "data": {
      "text/plain": [
       "1"
      ]
     },
     "execution_count": 13,
     "metadata": {},
     "output_type": "execute_result"
    }
   ],
   "source": [
    "#subtraction\n",
    "2-1"
   ]
  },
  {
   "cell_type": "code",
   "execution_count": 14,
   "id": "c2d11697-77ac-4f11-9970-7aefb6f2c9e5",
   "metadata": {},
   "outputs": [
    {
     "data": {
      "text/plain": [
       "6"
      ]
     },
     "execution_count": 14,
     "metadata": {},
     "output_type": "execute_result"
    }
   ],
   "source": [
    "#multiply\n",
    "2*3"
   ]
  },
  {
   "cell_type": "code",
   "execution_count": 15,
   "id": "80a0e45b-c5b0-402a-9135-947f5ea4484d",
   "metadata": {},
   "outputs": [
    {
     "data": {
      "text/plain": [
       "2.0"
      ]
     },
     "execution_count": 15,
     "metadata": {},
     "output_type": "execute_result"
    }
   ],
   "source": [
    "#divide\n",
    "6/3"
   ]
  },
  {
   "cell_type": "code",
   "execution_count": 16,
   "id": "0fee8858-db04-44d1-8a2b-6ce52f995464",
   "metadata": {},
   "outputs": [
    {
     "data": {
      "text/plain": [
       "2"
      ]
     },
     "execution_count": 16,
     "metadata": {},
     "output_type": "execute_result"
    }
   ],
   "source": [
    "#floor division\n",
    "6//3"
   ]
  },
  {
   "cell_type": "code",
   "execution_count": 17,
   "id": "ae17f292-3212-4673-9597-b1eacecf1276",
   "metadata": {},
   "outputs": [
    {
     "data": {
      "text/plain": [
       "2"
      ]
     },
     "execution_count": 17,
     "metadata": {},
     "output_type": "execute_result"
    }
   ],
   "source": [
    "#floor division \n",
    "11//5"
   ]
  },
  {
   "cell_type": "code",
   "execution_count": 18,
   "id": "669ebb50-d6a7-4f9c-8cfd-5894e2259331",
   "metadata": {},
   "outputs": [
    {
     "data": {
      "text/plain": [
       "1"
      ]
     },
     "execution_count": 18,
     "metadata": {},
     "output_type": "execute_result"
    }
   ],
   "source": [
    "#modulus \n",
    "10 % 3"
   ]
  },
  {
   "cell_type": "code",
   "execution_count": 19,
   "id": "569ca156-4049-4cdc-b608-38e9f5acba38",
   "metadata": {},
   "outputs": [
    {
     "data": {
      "text/plain": [
       "8"
      ]
     },
     "execution_count": 19,
     "metadata": {},
     "output_type": "execute_result"
    }
   ],
   "source": [
    "#exponential\n",
    "2**3"
   ]
  },
  {
   "cell_type": "code",
   "execution_count": null,
   "id": "eb9fe752-63bd-4c40-90f1-04155f4e7a83",
   "metadata": {},
   "outputs": [],
   "source": []
  }
 ],
 "metadata": {
  "kernelspec": {
   "display_name": "Python 3 (ipykernel)",
   "language": "python",
   "name": "python3"
  },
  "language_info": {
   "codemirror_mode": {
    "name": "ipython",
    "version": 3
   },
   "file_extension": ".py",
   "mimetype": "text/x-python",
   "name": "python",
   "nbconvert_exporter": "python",
   "pygments_lexer": "ipython3",
   "version": "3.12.3"
  }
 },
 "nbformat": 4,
 "nbformat_minor": 5
}
